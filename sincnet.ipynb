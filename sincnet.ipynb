{
 "cells": [
  {
   "cell_type": "markdown",
   "id": "fce711bc-1a3c-4077-840e-e2412c92968b",
   "metadata": {},
   "source": [
    "本檔案使用資料處理後的音訊資料語病史進行訓練與預測\n",
    "\n",
    "訓練結果的模型權重將存為「sincnet.h5'」"
   ]
  },
  {
   "cell_type": "code",
   "execution_count": null,
   "id": "b05ae497-ffcf-47d2-a5ba-945c7ac6e46f",
   "metadata": {},
   "outputs": [],
   "source": [
    "import pandas as pd\n",
    "import numpy as np\n",
    "import math\n",
    "from sklearn.metrics import confusion_matrix, classification_report\n",
    "from sklearn.model_selection import train_test_split\n",
    "\n",
    "import keras\n",
    "import tensorflow as tf\n",
    "from tensorflow import keras\n",
    "from tensorflow.keras import backend as K\n",
    "from keras_self_attention import SeqSelfAttention\n",
    "from tensorflow.keras import initializers, regularizers\n",
    "from tensorflow.keras.models import Sequential\n",
    "from tensorflow.keras.layers import Dense, Conv1D,Conv2D, MaxPooling1D, MaxPooling2D, Flatten, Dropout,Layer,Concatenate,Input,Activation\n",
    "from tensorflow.keras.layers import BatchNormalization,LayerNormalization,LeakyReLU,ReLU,Add,AveragePooling1D\n",
    "from tensorflow.keras.layers import GlobalAveragePooling1D, Reshape, multiply, add, GlobalMaxPooling1D, Multiply\n",
    "from tensorflow.keras.layers import Masking, Bidirectional, LSTM\n",
    "from sincnet_tensorflow import SincConv1D\n",
    "from focal_loss import SparseCategoricalFocalLoss"
   ]
  },
  {
   "cell_type": "code",
   "execution_count": null,
   "id": "afb5ee03-9bb5-47f3-8bab-3e4ce5814030",
   "metadata": {},
   "outputs": [],
   "source": [
    "sample_rate = 16000\n",
    "data = np.load('/home/user8008//sdk/sail/audio/cup/final/train_data(1000)(normalize).npz')"
   ]
  },
  {
   "cell_type": "code",
   "execution_count": null,
   "id": "63b229d6-3d85-4400-8ca7-b6194d226afb",
   "metadata": {},
   "outputs": [],
   "source": [
    "train_audio = data['train_audio']\n",
    "train_clinical = data['train_clinical']\n",
    "train_y = data['train_y']\n",
    "train_y_bln =  data['train_y_bln']"
   ]
  },
  {
   "cell_type": "code",
   "execution_count": null,
   "id": "bc21f43b-558c-49c7-a9a6-7100018599f0",
   "metadata": {},
   "outputs": [],
   "source": [
    "audio_x_train, audio_x_val, y_train, y_val = train_test_split(train_audio,train_y,test_size=0.2,random_state=5473,stratify=train_y_bln)\n",
    "clinical_x_train, clinical_x_val, _,_ = train_test_split(train_clinical,train_y,test_size=0.2,random_state=5473,stratify=train_y_bln)"
   ]
  },
  {
   "cell_type": "code",
   "execution_count": null,
   "id": "4d73c273-5bd9-464b-89b5-a28a5667f836",
   "metadata": {},
   "outputs": [],
   "source": [
    "sinc_layer251 = SincConv1D(N_filt=60, Filt_dim=251, fs=sample_rate, stride=24, padding=\"SAME\")\n",
    "sinc_layer501 = SincConv1D(N_filt=60, Filt_dim=501, fs=sample_rate, stride=24, padding=\"SAME\")\n",
    "sinc_layer1001 = SincConv1D(N_filt=60, Filt_dim=1001, fs=sample_rate, stride=24, padding=\"SAME\")"
   ]
  },
  {
   "cell_type": "code",
   "execution_count": null,
   "id": "a3d3e46c-8657-4438-99dd-0481168ef89b",
   "metadata": {},
   "outputs": [],
   "source": [
    "def residual_block(x, filters, conv_num=3, activation=\"relu\"):\n",
    "    s = Conv1D(filters, 1, padding=\"same\", dilation_rate=12)(x)\n",
    "    for i in range(conv_num - 1):\n",
    "        x = Conv1D(filters, 3, padding=\"same\", dilation_rate=12)(x)\n",
    "        x = gelu(x)\n",
    "        x = Conv1D(filters, 3, padding=\"same\", dilation_rate=12)(x)\n",
    "        x = Add()([x, s])\n",
    "        x = gelu(x)\n",
    "    return MaxPooling1D(pool_size=3, strides=2,name='residual_end')(x)\n",
    "\n",
    "def channelAttention(input_feature,ratio=8,name=\"\"):\n",
    "    channel=input_feature.shape[-1]\n",
    "    shared_layer_one=Dense(channel//ratio,activation='relu',use_bias=False,name=\"channel_attention_shared_one_\" + str(name))\n",
    "    shared_layer_two=Dense(channel,use_bias=False,name=\"channel_attention_shared_two_\" + str(name))\n",
    "    avg_pool=GlobalAveragePooling1D()(input_feature)\n",
    "    max_pool=GlobalMaxPooling1D()(input_feature)\n",
    "    avg_pool=Reshape((1,channel))(avg_pool)\n",
    "    max_pool=Reshape((1,channel))(max_pool)\n",
    "    avg_pool=shared_layer_one(avg_pool)\n",
    "    max_pool=shared_layer_one(max_pool)\n",
    "    avg_pool=shared_layer_two(avg_pool)\n",
    "    max_pool=shared_layer_two(max_pool)\n",
    "    cbam_feature=Add()([avg_pool,max_pool])\n",
    "    cbam_feature=Activation('sigmoid')(cbam_feature)\n",
    "    out=Multiply()([input_feature,cbam_feature])\n",
    "    return out\n",
    "\n",
    "def spatialAttention(input_feature,kernel_size=7,name=\"\"):\n",
    "    cbam_feature=input_feature\n",
    "    avg_pool=tf.reduce_mean(input_feature,axis=2,keepdims=True)\n",
    "    max_pool=tf.reduce_max(input_feature,axis=2,keepdims=True)\n",
    "    concat=Concatenate(axis=2)([avg_pool,max_pool])\n",
    "    cbam_feature=Conv1D(filters=1,kernel_size=7,strides=1,padding='same',use_bias=False,name=\"spatial_attention_\" + str(name),dilation_rate=2)(concat)\n",
    "    cbam_feature=Activation('sigmoid')(cbam_feature)\n",
    "    out=Multiply()([input_feature,cbam_feature])\n",
    "    return out\n",
    "\n",
    "def cbamBlock(cbam_feature,ratio=8,name=\"\"):\n",
    "    cbam_feature=channelAttention(cbam_feature,ratio,name)\n",
    "    cbam_feature=spatialAttention(cbam_feature,name)\n",
    "    return cbam_featureGnb_proba\n",
    "\n",
    "class TemporalAttention(keras.Model):\n",
    "\tdef __init__(self,fin,fout=1):\n",
    "\t\tsuper(TemporalAttention,self).__init__()\n",
    "\t\tself.fin = fin \n",
    "\t\tself.fout = fout \n",
    "\t\t\n",
    "\t\tself.initializer = initializers.GlorotUniform() \n",
    "\t\tself.w = tf.Variable(self.initializer(shape=[self.fin, self.fout], dtype=tf.float32))\n",
    "\tdef call(self,h):\n",
    "\t\tx = h \n",
    "\t\talpha = h @ self.w \n",
    "\t\talpha = tf.nn.softmax(tf.tanh(alpha),1)\n",
    "\t\tx = tf.einsum('ijk,ijm->ikm', alpha, x) \n",
    "\t\treturn tf.squeeze(x,[1]) \n",
    "    \n",
    "def gelu(x):\n",
    "    return 0.5 * x * (1.0 + K.tanh(math.sqrt(2.0 / math.pi) * (x + 0.044715 * x * x * x)))"
   ]
  },
  {
   "cell_type": "code",
   "execution_count": null,
   "id": "52d4a1e2-c396-41ca-8527-068c03ab0777",
   "metadata": {},
   "outputs": [],
   "source": [
    "def build_model():\n",
    "    inputs = Input((48000, 1))\n",
    "    finput_shape_1 = Input((10,))\n",
    "    x1 = sinc_layer251(inputs)\n",
    "    x1 = Dropout(0.05)(x1)\n",
    "    x2 = sinc_layer501(inputs)\n",
    "    x2 = Dropout(0.05)(x2)\n",
    "    x3 = sinc_layer1001(inputs)\n",
    "    x3 = Dropout(0.05)(x3)\n",
    "    x = Concatenate(name=\"ms_sincnet\")([x1,x2,x3])\n",
    "    x = MaxPooling1D(pool_size=3, name=\"MaxPooling\")(x)\n",
    "    x = LayerNormalization(name=\"Lnor1\")(x)       \n",
    "    xx = LeakyReLU(alpha=0.2)(x)\n",
    "    x_sp = spatialAttention(xx,kernel_size=7,name=\"\")\n",
    "    x_ch = channelAttention(xx,ratio=10,name=\"\")\n",
    "    x = Concatenate(name=\"Concat_sp_and_ch\")([x_sp,x_ch])\n",
    "    x = Dropout(0.25)(x)\n",
    "    x = residual_block(x,16,3)\n",
    "    x = Masking(mask_value=0.0)(x)\n",
    "    x = Bidirectional(LSTM(20, return_sequences=True))(x)\n",
    "    x = SeqSelfAttention(attention_activation='sigmoid')(x)     \n",
    "    x = TemporalAttention(40,1)(x)\n",
    "    x = Dropout(0.25)(x)\n",
    "    xf = Dense(300)(finput_shape_1)\n",
    "    xf = gelu(xf)\n",
    "    xf = Dropout(0.25)(xf)    \n",
    "    xf = Dense(100)(xf)\n",
    "    xf = gelu(xf)\n",
    "    xf = Dense(25)(xf)\n",
    "    xf = gelu(xf)\n",
    "    x = Concatenate()([x, xf])\n",
    "    x = Dense(8,kernel_regularizer=regularizers.l2(0.001))(x)\n",
    "    x = gelu(x)\n",
    "\n",
    "    outputs = Dense(5, activation=\"softmax\", name=\"output\")(x)\n",
    "    return tf.keras.models.Model(inputs=[inputs,finput_shape_1],outputs=outputs)"
   ]
  },
  {
   "cell_type": "code",
   "execution_count": null,
   "id": "b81c8af5-a492-4c21-b9ce-9bf6d154e310",
   "metadata": {},
   "outputs": [],
   "source": [
    "lr = 0.0003\n",
    "class_weight = (0.1,0.153,0.153,0.207,0.376)\n",
    "model = build_model()\n",
    "\n",
    "model.compile(optimizer=tf.keras.optimizers.Adam(learning_rate=lr),\n",
    "              loss=SparseCategoricalFocalLoss(gamma=2,class_weight=class_weight),\n",
    "              metrics=['accuracy'])"
   ]
  },
  {
   "cell_type": "code",
   "execution_count": null,
   "id": "84a1ed07-cd11-4e74-bfa2-68632cb62062",
   "metadata": {
    "tags": []
   },
   "outputs": [],
   "source": [
    "batch_size = 128\n",
    "epoch = 150\n",
    "\n",
    "model_history = model.fit([audio_x_train, clinical_x_train],y_train,\n",
    "                          validation_data=([audio_x_val, clinical_x_val],y_val),\n",
    "                          batch_size=batch_size,\n",
    "                          epochs=epoch)"
   ]
  },
  {
   "cell_type": "code",
   "execution_count": null,
   "id": "6e288c4a-11d1-4aea-bd00-5b1d4f068077",
   "metadata": {},
   "outputs": [],
   "source": [
    "# model.save_weights('sincnet.h5')"
   ]
  }
 ],
 "metadata": {
  "kernelspec": {
   "display_name": "Python 3 (ipykernel)",
   "language": "python",
   "name": "python3"
  },
  "language_info": {
   "codemirror_mode": {
    "name": "ipython",
    "version": 3
   },
   "file_extension": ".py",
   "mimetype": "text/x-python",
   "name": "python",
   "nbconvert_exporter": "python",
   "pygments_lexer": "ipython3",
   "version": "3.7.5"
  }
 },
 "nbformat": 4,
 "nbformat_minor": 5
}
