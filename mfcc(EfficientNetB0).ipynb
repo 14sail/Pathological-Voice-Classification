{
 "cells": [
  {
   "cell_type": "markdown",
   "id": "133a29d6-087b-4397-b1d0-02ab4a165d26",
   "metadata": {},
   "source": [
    "本檔案使用資料處理後的MFCC圖進行訓練與預測\n",
    "\n",
    "為了滿足預訓練模型所需，在進入模型之前先將影像疊為三通道。\n",
    "\n",
    "訓練結果的模型權重將存為「mfcc.h5'」"
   ]
  },
  {
   "cell_type": "code",
   "execution_count": null,
   "id": "1dd28ff6-9456-4c76-9752-de15d3ff0bad",
   "metadata": {},
   "outputs": [],
   "source": [
    "import pandas as pd\n",
    "import numpy as np\n",
    "import math\n",
    "from sklearn.metrics import confusion_matrix, classification_report\n",
    "from sklearn.model_selection import train_test_split\n",
    "\n",
    "import keras\n",
    "import tensorflow as tf\n",
    "from tensorflow import keras\n",
    "from tensorflow.keras import backend as K\n",
    "from keras_self_attention import SeqSelfAttention\n",
    "from tensorflow.keras import initializers, regularizers\n",
    "from tensorflow.keras.models import Sequential\n",
    "from tensorflow.keras.layers import Dense, Conv1D,Conv2D, MaxPooling1D, MaxPooling2D, Flatten, Dropout,Layer,Concatenate,Input,Activation\n",
    "from tensorflow.keras.layers import BatchNormalization,LayerNormalization,LeakyReLU,ReLU,Add,AveragePooling1D\n",
    "from tensorflow.keras.layers import GlobalAveragePooling1D, Reshape, multiply, add, GlobalMaxPooling1D, Multiply\n",
    "from tensorflow.keras.layers import Masking, Bidirectional, LSTM\n",
    "from tensorflow.keras.applications import EfficientNetB0\n",
    "from focal_loss import SparseCategoricalFocalLoss"
   ]
  },
  {
   "cell_type": "code",
   "execution_count": null,
   "id": "4b144967-510b-4d66-8327-71a3d0d6d9c4",
   "metadata": {},
   "outputs": [],
   "source": [
    "sample_rate = 16000\n",
    "data = np.load('/home/user8008//sdk/sail/audio/cup/final/train_data(1000)(normalize).npz')\n",
    "data_MFCC = np.load('/home/user8008/sdk/sail/audio/cup/final/MFCCtrain_data(1000).npz')"
   ]
  },
  {
   "cell_type": "code",
   "execution_count": null,
   "id": "aa75fe39-c8a5-4082-b205-c3e038d5b6ae",
   "metadata": {},
   "outputs": [],
   "source": [
    "# 經過資料處理後的\n",
    "train_y = data['train_y']\n",
    "train_y_bln =  data['train_y_bln']\n",
    "train_mfcc = data_MFCC['MFCC']\n",
    "train_mfcc_3 = np.stack((train_mfcc, train_mfcc, train_mfcc), axis=3) # 將資料疊為三通道\n",
    "train_mfcc.shape, train_y.shape, train_y_bln.shape,train_mfcc_3.shape"
   ]
  },
  {
   "cell_type": "code",
   "execution_count": null,
   "id": "1c95449c-218f-4bb1-b095-4e85e2061919",
   "metadata": {},
   "outputs": [],
   "source": [
    "mfcc_x_train, mfcc_x_val, y_train, y_val = train_test_split(train_mfcc_3,train_y,test_size=0.2,random_state=5473,stratify=train_y_bln)"
   ]
  },
  {
   "cell_type": "code",
   "execution_count": null,
   "id": "22b68404-b4c6-4e41-9a63-9144010713f6",
   "metadata": {},
   "outputs": [],
   "source": [
    "def gelu(x):\n",
    "    return 0.5 * x * (1.0 + K.tanh(math.sqrt(2.0 / math.pi) * (x + 0.044715 * x * x * x)))\n",
    "\n",
    "def spatialAttention_eff(input_feature,kernel_size=7,name=\"\"):\n",
    "    cbam_feature=input_feature\n",
    "    avg_pool=tf.reduce_mean(input_feature,axis=3,keepdims=True)\n",
    "    max_pool=tf.reduce_max(input_feature,axis=3,keepdims=True)\n",
    "    concat=Concatenate(axis=3)([avg_pool,max_pool])\n",
    "    cbam_feature=Conv1D(filters=80,kernel_size=7,strides=1,padding='same',use_bias=False,name=\"spatial_attention_\" + str(name), dilation_rate=2)(concat)\n",
    "    cbam_feature=Activation('sigmoid')(cbam_feature)\n",
    "    out=Multiply()([input_feature,cbam_feature])\n",
    "    return out\n",
    "\n",
    "def residual_block_eff(x, filters, conv_num=3, activation=\"relu\"):\n",
    "    s = Conv1D(filters, 1, padding=\"same\", dilation_rate=12)(x)  # 5\n",
    "    for i in range(conv_num - 1):\n",
    "\n",
    "        x = Conv1D(filters, 3, padding=\"same\", dilation_rate=12)(x)\n",
    "        x = ReLU()(x)\n",
    "        x = Conv1D(filters, 3, padding=\"same\", dilation_rate=12)(x)\n",
    "        x = Add()([x, s])\n",
    "        x = ReLU()(x)\n",
    "    return MaxPooling2D(pool_size=3, strides=2,name='residual_end')(x)\n",
    "\n",
    "\n",
    "model_mfcc = EfficientNetB0(include_top=False, weights='imagenet', input_shape=(43,43,3), pooling='max')  # avg\n",
    "layer = tf.keras.models.Model(inputs=model_mfcc.input, outputs=model_mfcc.get_layer('block4c_project_conv').output)\n",
    "x = layer.output\n",
    "x = Dropout(0.25)(x)\n",
    "x_sp = spatialAttention_eff(x,kernel_size=4,name=\"\")\n",
    "x = residual_block_eff(x_sp,8,3)\n",
    "x = Flatten()(x)\n",
    "x = Dropout(0.3)(x)\n",
    "x = Dense(1280,kernel_regularizer=regularizers.l2(0.001))(x)\n",
    "x = gelu(x)\n",
    "x = Dropout(0.1)(x)\n",
    "x = Dense(128,kernel_regularizer=regularizers.l2(0.001))(x)\n",
    "x = gelu(x)\n",
    "output = Dense(units=5, activation='softmax')(x)\n",
    "model_mfcc = tf.keras.models.Model(inputs=model_mfcc.input, outputs=output)"
   ]
  },
  {
   "cell_type": "code",
   "execution_count": null,
   "id": "1390175e-4c09-4de7-abfa-cb5b15e2e584",
   "metadata": {},
   "outputs": [],
   "source": [
    "lr = 0.00003\n",
    "class_weight = (0.1,0.153,0.153,0.207,0.376)\n",
    "\n",
    "model_mfcc.compile(optimizer=tf.keras.optimizers.Adam(learning_rate=lr),\n",
    "              loss=SparseCategoricalFocalLoss(gamma=2,class_weight=class_weight),\n",
    "              metrics=['accuracy'])"
   ]
  },
  {
   "cell_type": "code",
   "execution_count": null,
   "id": "9e66ee83-b1e2-49f4-ab1c-5f05a7aeb90f",
   "metadata": {
    "tags": []
   },
   "outputs": [],
   "source": [
    "batch_size = 64\n",
    "epoch = 150\n",
    "\n",
    "model_history = model_mfcc.fit([mfcc_x_train],y_train,\n",
    "                          validation_data = ([mfcc_x_val],y_val),\n",
    "                          batch_size=batch_size,\n",
    "                          epochs=epoch)"
   ]
  },
  {
   "cell_type": "code",
   "execution_count": null,
   "id": "fee424d7-5376-4ded-8725-e33b86bb9696",
   "metadata": {},
   "outputs": [],
   "source": [
    "# model_mfcc.save_weights('mfcc.h5')"
   ]
  }
 ],
 "metadata": {
  "kernelspec": {
   "display_name": "Python 3 (ipykernel)",
   "language": "python",
   "name": "python3"
  },
  "language_info": {
   "codemirror_mode": {
    "name": "ipython",
    "version": 3
   },
   "file_extension": ".py",
   "mimetype": "text/x-python",
   "name": "python",
   "nbconvert_exporter": "python",
   "pygments_lexer": "ipython3",
   "version": "3.7.5"
  }
 },
 "nbformat": 4,
 "nbformat_minor": 5
}
